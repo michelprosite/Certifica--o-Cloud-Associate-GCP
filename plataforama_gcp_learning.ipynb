{
 "cells": [
  {
   "cell_type": "markdown",
   "metadata": {},
   "source": [
    "# Preparação para Certificação Google Cloud Associate\n",
    "## Michel Souza Santana"
   ]
  },
  {
   "cell_type": "markdown",
   "metadata": {},
   "source": [
    "Material Site Google:\n",
    "* Programa de Aprendizado\n",
    "\n",
    "https://cloud.google.com/learn/certification/cloud-engineer?hl=pt-br\n",
    "***"
   ]
  },
  {
   "cell_type": "markdown",
   "metadata": {},
   "source": [
    "Cursos Udemy:\n",
    "* Certificação Google Cloud Associate Engineer (GCP) \n",
    "> Nota do Curso: 09\n",
    "\n",
    "https://www.udemy.com/course/certificacao-google-cloud-associate/?kw=Certifica%C3%A7%C3%A3o+Google+Cloud+Associate+Engineer+%28GCP%29&src=sac\n",
    "*****\n",
    "\n",
    "* Certificação Google Cloud Associate Engineer (GCP) do Zero \n",
    "> Nota do Curso: 08\n",
    "\n",
    "https://www.udemy.com/course/professional-google-cloud-architect-aprenda-sobre-google-cloud/?kw=Certifica%C3%A7%C3%A3o+Google+Cloud+Associate+Engineer+%28GCP%29+do+Zero&src=sac\n"
   ]
  },
  {
   "cell_type": "code",
   "execution_count": null,
   "metadata": {},
   "outputs": [],
   "source": []
  }
 ],
 "metadata": {
  "language_info": {
   "name": "python"
  },
  "orig_nbformat": 4
 },
 "nbformat": 4,
 "nbformat_minor": 2
}
