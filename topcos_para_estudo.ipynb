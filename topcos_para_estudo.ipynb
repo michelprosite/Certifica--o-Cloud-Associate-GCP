{
 "cells": [
  {
   "cell_type": "markdown",
   "metadata": {},
   "source": [
    " * Compute Engine\n",
    " \n",
    " * Kubernetes Engine\n",
    " \n",
    " * Cloud Run\n",
    " \n",
    " * Cloud Functions\n",
    "\n",
    " * Cloud Marketplace\n",
    "\n",
    " * Pub/Sub\n",
    "\n",
    " * Big Table\n",
    "\n",
    " * Big \n",
    " \n",
    " * Compute Engineer"
   ]
  },
  {
   "cell_type": "markdown",
   "metadata": {},
   "source": []
  }
 ],
 "metadata": {
  "language_info": {
   "name": "python"
  },
  "orig_nbformat": 4
 },
 "nbformat": 4,
 "nbformat_minor": 2
}
