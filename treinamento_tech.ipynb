{
 "cells": [
  {
   "cell_type": "markdown",
   "metadata": {},
   "source": [
    "# Programação de estudo Certificação Google Cloud Associate\n",
    "#### Data sugerida para realização da prova: Dezembro/Janeiro \n",
    "\n",
    "O cronograma de estudo é eficiente para a certificação Google Cloud Associate. Ele cobre todos os tópicos importantes e fornece uma sequência lógica de aprendizado.\n",
    "***\n",
    "\n",
    "**Regras básicas para execução do projeto:**\n",
    "* Os tópicos seguem uma sequência lógica de estudos com similaridades entres os tópicos, portando devem ser seguidas a risca para um melhor resultado\n",
    "* Concentre-se nos conceitos básicos\n",
    "* Não tente aprender tudo de uma vez\n",
    "* Comece com os conceitos básicos e, em seguida, avance para tópicos mais avançados \n",
    "* Pratique com exercícios e simulados de exames\n",
    "* Quanto mais você praticar, mais confiante se sentirá no exame\n",
    "* Faça pausas regulares\n",
    "* Estudar por longos períodos de tempo pode ser cansativo e prejudicar o aprendizado\n",
    "* Faça pausas regulares para descansar o cérebro e se refrescar\n",
    "* **Ao considerar o assunto finalizado, elabore uma palestra de no máximo 10m para apresentação dos principais conceitos absorvidos**\n",
    "* **Grave um video, onde você apresenta o assunto abordando os principais conceitos**\n",
    "* **Compartilhe esse conteúdo e peça feedback para medir seu conhecimento**\n",
    "\n",
    "> O planejamento segue um cronograma de 11 semanas onde serão abordados os principais tópicos relacionados ao tema.\n",
    "\n",
    "> Resalta-se que o projeto visa alcançar conhecimento conceitual e prático sendo necessario, ainda assim, acrescentar outras técnicas de estudo para aprimoramento pessoal e técnico.\n",
    "\n",
    "> É de vital importânci está cumprindo com os passos do projeto para melhor aproveitamento e absorção.\n",
    "\n",
    "***"
   ]
  },
  {
   "cell_type": "markdown",
   "metadata": {},
   "source": [
    "## Temas para estudo\n",
    "\n",
    "1. **Google Cloud Console** e **Google Cloud SDK**: Ambos são utilizados para gerenciar recursos na GCP, com o Console sendo a interface gráfica e o SDK permitindo a interação por linha de comando.\n",
    "\n",
    "2. **Google Cloud IAM (Identity and Access Management)** e **Google Cloud Security**: IAM é usado para controlar o acesso aos recursos, enquanto a segurança é fundamental para proteger esses recursos.\n",
    "\n",
    "3. **Compute Engine** e **Kubernetes Engine**: O Compute Engine é utilizado para implantar máquinas virtuais, enquanto o Kubernetes Engine orquestra contêineres em clusters, oferecendo escalabilidade e gerenciamento eficazes.\n",
    "\n",
    "4. **App Engine** e **Google Cloud Functions**: Ambos são usados para desenvolver e implantar aplicativos, com App Engine oferecendo uma plataforma gerenciada e Functions sendo serverless.\n",
    "\n",
    "5. **Google Cloud Storage** e **Google Cloud SQL**: O Storage oferece armazenamento de objetos escalável, enquanto o Cloud SQL fornece bancos de dados relacionais gerenciados para aplicativos.\n",
    "\n",
    "6. **Google Cloud Datastore** e **Google Cloud Pub/Sub**: O Datastore é um banco de dados NoSQL, enquanto o Pub/Sub é usado para criar sistemas de processamento de eventos que podem se beneficiar de fontes de dados em tempo real.\n",
    "\n",
    "7. **Google Cloud BigQuery** e **Google Cloud Monitoring e Logging**: BigQuery é usado para análise de dados, enquanto o Monitoring permite monitorar o desempenho e a integridade dos recursos, e o Logging permite armazenar e analisar logs.\n",
    "\n",
    "8. **Google Cloud Networking** e **Google Cloud Load Balancing**: Configurar redes e balanceamento de carga é essencial para garantir conectividade e escalabilidade eficazes.\n",
    "\n",
    "9. **Deployment Manager** e **Princípios de DevOps e práticas recomendadas**: Deployment Manager é usado para automatizar recursos, e a adoção de práticas DevOps é importante para garantir a eficiência e a colaboração no ciclo de vida do desenvolvimento e implantação de aplicativos.\n",
    "\n",
    "10. **Google Cloud Identity-Aware Proxy (IAP)** e **Google Cloud Security**: IAP é usado para autenticar e autorizar o acesso a recursos, desempenhando um papel importante na segurança.\n",
    "\n",
    "11. **Google Cloud Billing** e **Princípios de DevOps e práticas recomendadas**: O Billing é importante para gerenciar os custos associados aos recursos, e a otimização de custos é uma parte essencial das práticas DevOps.\n",
    "\n",
    "***"
   ]
  },
  {
   "cell_type": "markdown",
   "metadata": {},
   "source": [
    "## Cronograma Sugerido\n",
    "\n",
    "**Semana 1: Google Cloud Console e Google Cloud SDK**\n",
    "- Dedique a primeira semana para se familiarizar com o Google Cloud Console.\n",
    "- Comece a instalar e aprender a usar o Google Cloud SDK.\n",
    "\n",
    "**Semana 2: Google Cloud IAM (Identity and Access Management) e Google Cloud Security**\n",
    "- Estude o IAM e configure políticas de acesso.\n",
    "- Explore as configurações de segurança na GCP.\n",
    "\n",
    "**Semana 3: Compute Engine e Kubernetes Engine**\n",
    "- Concentre-se em criar e gerenciar máquinas virtuais com o Compute Engine.\n",
    "- Introduza-se ao Kubernetes Engine e aprenda os conceitos básicos.\n",
    "\n",
    "**Semana 4: App Engine e Google Cloud Functions**\n",
    "- Explore o App Engine e implante um aplicativo simples.\n",
    "- Aprenda a criar e implantar funções serverless com o Google Cloud Functions.\n",
    "\n",
    "**Semana 5: Google Cloud Storage e Google Cloud SQL**\n",
    "- Estude o armazenamento de objetos no Google Cloud Storage.\n",
    "- Configure e gerencie bancos de dados relacionais com o Google Cloud SQL.\n",
    "\n",
    "**Semana 6: Google Cloud Datastore e Google Cloud Pub/Sub**\n",
    "- Aprofunde-se no Google Cloud Datastore, um banco de dados NoSQL.\n",
    "- Explore o Google Cloud Pub/Sub para criar sistemas de processamento de eventos em tempo real.\n",
    "\n",
    "**Semana 7: Google Cloud BigQuery e Google Cloud Monitoring e Logging**\n",
    "- Estude o Google Cloud BigQuery para análise de dados.\n",
    "- Aprenda sobre monitoramento e registro na GCP usando o Cloud Monitoring e Cloud Logging.\n",
    "\n",
    "**Semana 8: Google Cloud Networking e Google Cloud Load Balancing**\n",
    "- Dedique-se às configurações de rede na GCP, incluindo VPCs.\n",
    "- Explore as opções de balanceamento de carga para garantir alta disponibilidade e escalabilidade.\n",
    "\n",
    "**Semana 9: Deployment Manager e Princípios de DevOps e práticas recomendadas**\n",
    "- Aprenda a automatizar recursos com o Deployment Manager.\n",
    "- Explore os princípios de DevOps e práticas recomendadas para desenvolvimento e implantação eficazes.\n",
    "\n",
    "**Semana 10: Google Cloud Identity-Aware Proxy (IAP) e Google Cloud Billing**\n",
    "- Estude o IAP para autenticação e autorização de acesso a recursos.\n",
    "- Concentre-se no gerenciamento de custos e faturamento da GCP.\n",
    "\n",
    "**Semana 11: Revisão e Preparação para o Exame**\n",
    "- Reserve esta semana para revisar todos os tópicos e fazer exercícios práticos.\n",
    "- Prepare-se para o exame de certificação Google Cloud Associate.\n",
    "\n",
    "***"
   ]
  },
  {
   "cell_type": "markdown",
   "metadata": {},
   "source": [
    "# **Tópicos vs Conteúdo para estudo**"
   ]
  },
  {
   "cell_type": "markdown",
   "metadata": {},
   "source": [
    "## Google Cloud Console: Familiarize-se com a interface do Google Cloud Console, onde você gerenciará recursos na GCP.\n",
    "\n",
    "***\n"
   ]
  },
  {
   "cell_type": "markdown",
   "metadata": {},
   "source": [
    "## Google Cloud IAM (Identity and Access Management): Compreenda como gerenciar identidades, permissões e políticas de acesso na plataforma.\n",
    "\n",
    "***\n"
   ]
  },
  {
   "cell_type": "markdown",
   "metadata": {},
   "source": [
    "## Compute Engine: Aprenda a criar e gerenciar máquinas virtuais (VMs) no Compute Engine.\n",
    "\n",
    "***\n"
   ]
  },
  {
   "cell_type": "markdown",
   "metadata": {},
   "source": [
    "## App Engine: Entenda como implantar e gerenciar aplicativos na plataforma de computação gerenciada do Google.\n",
    "\n",
    "***\n"
   ]
  },
  {
   "cell_type": "markdown",
   "metadata": {},
   "source": [
    "## Kubernetes Engine: Saiba como criar e gerenciar clusters Kubernetes na GCP.\n",
    "\n",
    "***\n"
   ]
  },
  {
   "cell_type": "markdown",
   "metadata": {},
   "source": [
    "## Google Cloud Storage: Conheça os diferentes tipos de armazenamento, como Cloud Storage, e como trabalhar com eles.\n",
    "\n",
    "***\n"
   ]
  },
  {
   "cell_type": "markdown",
   "metadata": {},
   "source": [
    "## Google Cloud SQL: Aprenda a configurar e gerenciar bancos de dados relacionais.\n",
    "\n",
    "***\n"
   ]
  },
  {
   "cell_type": "markdown",
   "metadata": {},
   "source": [
    "## Google Cloud Datastore: Familiarize-se com o serviço de armazenamento de dados NoSQL.\n",
    "\n",
    "***\n"
   ]
  },
  {
   "cell_type": "markdown",
   "metadata": {},
   "source": [
    "## Google Cloud Pub/Sub: Entenda como usar mensagens para criar sistemas de processamento de eventos.\n",
    "\n",
    "***\n"
   ]
  },
  {
   "cell_type": "markdown",
   "metadata": {},
   "source": [
    "## Google Cloud BigQuery: Saiba como consultar e analisar grandes conjuntos de dados.\n",
    "\n",
    "***\n"
   ]
  },
  {
   "cell_type": "markdown",
   "metadata": {},
   "source": [
    "## Google Cloud Networking: Compreenda os conceitos de redes na GCP, como VPCs (Virtual Private Clouds).\n",
    "\n",
    "***\n"
   ]
  },
  {
   "cell_type": "markdown",
   "metadata": {},
   "source": [
    "## Google Cloud Load Balancing: Aprenda a distribuir o tráfego de forma eficaz entre as instâncias do Compute Engine.\n",
    "\n",
    "***\n"
   ]
  },
  {
   "cell_type": "markdown",
   "metadata": {},
   "source": [
    "## Google Cloud Monitoring e Logging: Saiba como monitorar e registrar recursos na GCP.\n",
    "\n",
    "***\n"
   ]
  },
  {
   "cell_type": "markdown",
   "metadata": {},
   "source": [
    "## Deployment Manager: Conheça a automação de recursos usando modelos de infraestrutura.\n",
    "\n",
    "***\n"
   ]
  },
  {
   "cell_type": "markdown",
   "metadata": {},
   "source": [
    "## Google Cloud Functions: Entenda como criar funções serverless.\n",
    "\n",
    "***\n"
   ]
  },
  {
   "cell_type": "markdown",
   "metadata": {},
   "source": [
    "## Google Cloud Identity-Aware Proxy (IAP): Saiba como proteger recursos na GCP com autenticação e autorização.\n",
    "\n",
    "***\n"
   ]
  },
  {
   "cell_type": "markdown",
   "metadata": {},
   "source": [
    "## Google Cloud Security: Familiarize-se com as melhores práticas de segurança na GCP.\n",
    "\n",
    "***\n"
   ]
  },
  {
   "cell_type": "markdown",
   "metadata": {},
   "source": [
    "## Google Cloud Billing: Entenda como gerenciar custos e faturamento na plataforma.\n",
    "\n",
    "***\n"
   ]
  },
  {
   "cell_type": "markdown",
   "metadata": {},
   "source": [
    "## Google Cloud SDK: Aprenda a usar a linha de comando para interagir com a GCP.\n",
    "\n",
    "***\n"
   ]
  },
  {
   "cell_type": "markdown",
   "metadata": {},
   "source": [
    "## Princípios de DevOps e práticas recomendadas: Compreenda os conceitos e práticas de DevOps para desenvolvimento e implantação de aplicativos na GCP.\n",
    "\n",
    "***"
   ]
  }
 ],
 "metadata": {
  "language_info": {
   "name": "python"
  },
  "orig_nbformat": 4
 },
 "nbformat": 4,
 "nbformat_minor": 2
}
